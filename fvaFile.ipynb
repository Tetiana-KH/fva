{
 "cells": [
  {
   "cell_type": "code",
   "execution_count": 1,
   "metadata": {},
   "outputs": [],
   "source": [
    "#1.How many photos per year, per month\n",
    "#2.Maximal photo per day\n",
    "#3.How many photos without place assigned?\n",
    "#4.Maximal photos in one place\n",
    "#5.How many photos assigned to each place?\n",
    "#6.How many people assigned totally?\n",
    "#7.How many photos without people assigned?\n",
    "#8.How many photos assigned to each device?\n",
    "#9.How many devices assigned totally?\n",
    "#10.How many photos without devices assigned totally?\n",
    "#11.How many photos have description/comments\n",
    "#https://pandas.pydata.org/pandas-docs/stable/reference/api/pandas.DataFrame.html"
   ]
  },
  {
   "cell_type": "code",
   "execution_count": 2,
   "metadata": {},
   "outputs": [],
   "source": [
    "import pandas as pd\n",
    "fvaFile = pd.read_csv(\"c:/work/fva/#data#/fvaFile.csv\")"
   ]
  },
  {
   "cell_type": "code",
   "execution_count": 3,
   "metadata": {},
   "outputs": [
    {
     "data": {
      "text/plain": [
       "(42883, 11)"
      ]
     },
     "execution_count": 3,
     "metadata": {},
     "output_type": "execute_result"
    }
   ],
   "source": [
    "fvaFile.shape"
   ]
  },
  {
   "cell_type": "code",
   "execution_count": 4,
   "metadata": {},
   "outputs": [
    {
     "data": {
      "text/plain": [
       "Index(['ID', 'Name', 'PlaceId', 'People', 'DevId', 'Description', 'ScanerId',\n",
       "       'Comment', 'EventId', 'ReasonPeople', 'Tags'],\n",
       "      dtype='object')"
      ]
     },
     "execution_count": 4,
     "metadata": {},
     "output_type": "execute_result"
    }
   ],
   "source": [
    "fvaFile.columns"
   ]
  },
  {
   "cell_type": "code",
   "execution_count": 5,
   "metadata": {},
   "outputs": [
    {
     "data": {
      "text/plain": [
       "ID                int64\n",
       "Name             object\n",
       "PlaceId         float64\n",
       "People           object\n",
       "DevId           float64\n",
       "Description      object\n",
       "ScanerId        float64\n",
       "Comment          object\n",
       "EventId         float64\n",
       "ReasonPeople     object\n",
       "Tags             object\n",
       "dtype: object"
      ]
     },
     "execution_count": 5,
     "metadata": {},
     "output_type": "execute_result"
    }
   ],
   "source": [
    "fvaFile.dtypes"
   ]
  },
  {
   "cell_type": "code",
   "execution_count": 6,
   "metadata": {},
   "outputs": [
    {
     "data": {
      "text/html": [
       "<div>\n",
       "<style scoped>\n",
       "    .dataframe tbody tr th:only-of-type {\n",
       "        vertical-align: middle;\n",
       "    }\n",
       "\n",
       "    .dataframe tbody tr th {\n",
       "        vertical-align: top;\n",
       "    }\n",
       "\n",
       "    .dataframe thead th {\n",
       "        text-align: right;\n",
       "    }\n",
       "</style>\n",
       "<table border=\"1\" class=\"dataframe\">\n",
       "  <thead>\n",
       "    <tr style=\"text-align: right;\">\n",
       "      <th></th>\n",
       "      <th>ID</th>\n",
       "      <th>PlaceId</th>\n",
       "      <th>DevId</th>\n",
       "      <th>ScanerId</th>\n",
       "      <th>EventId</th>\n",
       "    </tr>\n",
       "  </thead>\n",
       "  <tbody>\n",
       "    <tr>\n",
       "      <th>count</th>\n",
       "      <td>42883.000000</td>\n",
       "      <td>33198.000000</td>\n",
       "      <td>42638.000000</td>\n",
       "      <td>315.000000</td>\n",
       "      <td>25335.000000</td>\n",
       "    </tr>\n",
       "    <tr>\n",
       "      <th>mean</th>\n",
       "      <td>21442.000000</td>\n",
       "      <td>109.351557</td>\n",
       "      <td>47.256719</td>\n",
       "      <td>121.107937</td>\n",
       "      <td>28.614999</td>\n",
       "    </tr>\n",
       "    <tr>\n",
       "      <th>std</th>\n",
       "      <td>12379.400134</td>\n",
       "      <td>103.141624</td>\n",
       "      <td>59.556556</td>\n",
       "      <td>0.310794</td>\n",
       "      <td>26.318544</td>\n",
       "    </tr>\n",
       "    <tr>\n",
       "      <th>min</th>\n",
       "      <td>1.000000</td>\n",
       "      <td>0.000000</td>\n",
       "      <td>0.000000</td>\n",
       "      <td>121.000000</td>\n",
       "      <td>1.000000</td>\n",
       "    </tr>\n",
       "    <tr>\n",
       "      <th>25%</th>\n",
       "      <td>10721.500000</td>\n",
       "      <td>11.000000</td>\n",
       "      <td>1.000000</td>\n",
       "      <td>121.000000</td>\n",
       "      <td>5.000000</td>\n",
       "    </tr>\n",
       "    <tr>\n",
       "      <th>50%</th>\n",
       "      <td>21442.000000</td>\n",
       "      <td>87.000000</td>\n",
       "      <td>6.000000</td>\n",
       "      <td>121.000000</td>\n",
       "      <td>36.000000</td>\n",
       "    </tr>\n",
       "    <tr>\n",
       "      <th>75%</th>\n",
       "      <td>32162.500000</td>\n",
       "      <td>155.000000</td>\n",
       "      <td>119.000000</td>\n",
       "      <td>121.000000</td>\n",
       "      <td>39.000000</td>\n",
       "    </tr>\n",
       "    <tr>\n",
       "      <th>max</th>\n",
       "      <td>42883.000000</td>\n",
       "      <td>445.000000</td>\n",
       "      <td>188.000000</td>\n",
       "      <td>122.000000</td>\n",
       "      <td>204.000000</td>\n",
       "    </tr>\n",
       "  </tbody>\n",
       "</table>\n",
       "</div>"
      ],
      "text/plain": [
       "                 ID       PlaceId         DevId    ScanerId       EventId\n",
       "count  42883.000000  33198.000000  42638.000000  315.000000  25335.000000\n",
       "mean   21442.000000    109.351557     47.256719  121.107937     28.614999\n",
       "std    12379.400134    103.141624     59.556556    0.310794     26.318544\n",
       "min        1.000000      0.000000      0.000000  121.000000      1.000000\n",
       "25%    10721.500000     11.000000      1.000000  121.000000      5.000000\n",
       "50%    21442.000000     87.000000      6.000000  121.000000     36.000000\n",
       "75%    32162.500000    155.000000    119.000000  121.000000     39.000000\n",
       "max    42883.000000    445.000000    188.000000  122.000000    204.000000"
      ]
     },
     "execution_count": 6,
     "metadata": {},
     "output_type": "execute_result"
    }
   ],
   "source": [
    "fvaFile.describe()"
   ]
  },
  {
   "cell_type": "code",
   "execution_count": 7,
   "metadata": {},
   "outputs": [
    {
     "data": {
      "text/html": [
       "<div>\n",
       "<style scoped>\n",
       "    .dataframe tbody tr th:only-of-type {\n",
       "        vertical-align: middle;\n",
       "    }\n",
       "\n",
       "    .dataframe tbody tr th {\n",
       "        vertical-align: top;\n",
       "    }\n",
       "\n",
       "    .dataframe thead th {\n",
       "        text-align: right;\n",
       "    }\n",
       "</style>\n",
       "<table border=\"1\" class=\"dataframe\">\n",
       "  <thead>\n",
       "    <tr style=\"text-align: right;\">\n",
       "      <th></th>\n",
       "      <th>ID</th>\n",
       "      <th>Name</th>\n",
       "      <th>PlaceId</th>\n",
       "      <th>People</th>\n",
       "      <th>DevId</th>\n",
       "      <th>Description</th>\n",
       "      <th>ScanerId</th>\n",
       "      <th>Comment</th>\n",
       "      <th>EventId</th>\n",
       "      <th>ReasonPeople</th>\n",
       "      <th>Tags</th>\n",
       "      <th>year</th>\n",
       "      <th>month</th>\n",
       "      <th>day</th>\n",
       "      <th>hour</th>\n",
       "      <th>min</th>\n",
       "      <th>sec</th>\n",
       "    </tr>\n",
       "  </thead>\n",
       "  <tbody>\n",
       "    <tr>\n",
       "      <th>42873</th>\n",
       "      <td>42874</td>\n",
       "      <td>2020-08-16-16-00-57.JPG</td>\n",
       "      <td>NaN</td>\n",
       "      <td>NaN</td>\n",
       "      <td>163.0</td>\n",
       "      <td>NaN</td>\n",
       "      <td>NaN</td>\n",
       "      <td>NaN</td>\n",
       "      <td>NaN</td>\n",
       "      <td>NaN</td>\n",
       "      <td>NaN</td>\n",
       "      <td>2020</td>\n",
       "      <td>08</td>\n",
       "      <td>16</td>\n",
       "      <td>1</td>\n",
       "      <td>0</td>\n",
       "      <td>5</td>\n",
       "    </tr>\n",
       "    <tr>\n",
       "      <th>42874</th>\n",
       "      <td>42875</td>\n",
       "      <td>2020-08-17-13-09-59.JPG</td>\n",
       "      <td>NaN</td>\n",
       "      <td>NaN</td>\n",
       "      <td>163.0</td>\n",
       "      <td>NaN</td>\n",
       "      <td>NaN</td>\n",
       "      <td>NaN</td>\n",
       "      <td>NaN</td>\n",
       "      <td>NaN</td>\n",
       "      <td>NaN</td>\n",
       "      <td>2020</td>\n",
       "      <td>08</td>\n",
       "      <td>17</td>\n",
       "      <td>1</td>\n",
       "      <td>0</td>\n",
       "      <td>5</td>\n",
       "    </tr>\n",
       "    <tr>\n",
       "      <th>42875</th>\n",
       "      <td>42876</td>\n",
       "      <td>2020-08-17-13-10-07.JPG</td>\n",
       "      <td>NaN</td>\n",
       "      <td>NaN</td>\n",
       "      <td>163.0</td>\n",
       "      <td>NaN</td>\n",
       "      <td>NaN</td>\n",
       "      <td>NaN</td>\n",
       "      <td>NaN</td>\n",
       "      <td>NaN</td>\n",
       "      <td>NaN</td>\n",
       "      <td>2020</td>\n",
       "      <td>08</td>\n",
       "      <td>17</td>\n",
       "      <td>1</td>\n",
       "      <td>1</td>\n",
       "      <td>0</td>\n",
       "    </tr>\n",
       "    <tr>\n",
       "      <th>42876</th>\n",
       "      <td>42877</td>\n",
       "      <td>2020-08-17-16-01-10.JPG</td>\n",
       "      <td>NaN</td>\n",
       "      <td>NaN</td>\n",
       "      <td>163.0</td>\n",
       "      <td>NaN</td>\n",
       "      <td>NaN</td>\n",
       "      <td>NaN</td>\n",
       "      <td>NaN</td>\n",
       "      <td>NaN</td>\n",
       "      <td>NaN</td>\n",
       "      <td>2020</td>\n",
       "      <td>08</td>\n",
       "      <td>17</td>\n",
       "      <td>1</td>\n",
       "      <td>0</td>\n",
       "      <td>1</td>\n",
       "    </tr>\n",
       "    <tr>\n",
       "      <th>42877</th>\n",
       "      <td>42878</td>\n",
       "      <td>2020-08-17-16-01-18.JPG</td>\n",
       "      <td>NaN</td>\n",
       "      <td>NaN</td>\n",
       "      <td>163.0</td>\n",
       "      <td>NaN</td>\n",
       "      <td>NaN</td>\n",
       "      <td>NaN</td>\n",
       "      <td>NaN</td>\n",
       "      <td>NaN</td>\n",
       "      <td>NaN</td>\n",
       "      <td>2020</td>\n",
       "      <td>08</td>\n",
       "      <td>17</td>\n",
       "      <td>1</td>\n",
       "      <td>0</td>\n",
       "      <td>1</td>\n",
       "    </tr>\n",
       "    <tr>\n",
       "      <th>42878</th>\n",
       "      <td>42879</td>\n",
       "      <td>2020-08-18-14-28-48.JPG</td>\n",
       "      <td>NaN</td>\n",
       "      <td>NaN</td>\n",
       "      <td>163.0</td>\n",
       "      <td>NaN</td>\n",
       "      <td>NaN</td>\n",
       "      <td>NaN</td>\n",
       "      <td>NaN</td>\n",
       "      <td>NaN</td>\n",
       "      <td>NaN</td>\n",
       "      <td>2020</td>\n",
       "      <td>08</td>\n",
       "      <td>18</td>\n",
       "      <td>1</td>\n",
       "      <td>2</td>\n",
       "      <td>4</td>\n",
       "    </tr>\n",
       "    <tr>\n",
       "      <th>42879</th>\n",
       "      <td>42880</td>\n",
       "      <td>2020-08-18-14-28-51.JPG</td>\n",
       "      <td>NaN</td>\n",
       "      <td>NaN</td>\n",
       "      <td>163.0</td>\n",
       "      <td>NaN</td>\n",
       "      <td>NaN</td>\n",
       "      <td>NaN</td>\n",
       "      <td>NaN</td>\n",
       "      <td>NaN</td>\n",
       "      <td>NaN</td>\n",
       "      <td>2020</td>\n",
       "      <td>08</td>\n",
       "      <td>18</td>\n",
       "      <td>1</td>\n",
       "      <td>2</td>\n",
       "      <td>5</td>\n",
       "    </tr>\n",
       "    <tr>\n",
       "      <th>42880</th>\n",
       "      <td>42881</td>\n",
       "      <td>2020-08-18-14-28-53.JPG</td>\n",
       "      <td>NaN</td>\n",
       "      <td>NaN</td>\n",
       "      <td>163.0</td>\n",
       "      <td>NaN</td>\n",
       "      <td>NaN</td>\n",
       "      <td>NaN</td>\n",
       "      <td>NaN</td>\n",
       "      <td>NaN</td>\n",
       "      <td>NaN</td>\n",
       "      <td>2020</td>\n",
       "      <td>08</td>\n",
       "      <td>18</td>\n",
       "      <td>1</td>\n",
       "      <td>2</td>\n",
       "      <td>5</td>\n",
       "    </tr>\n",
       "    <tr>\n",
       "      <th>42881</th>\n",
       "      <td>42882</td>\n",
       "      <td>2020-08-18-14-29-30.JPG</td>\n",
       "      <td>NaN</td>\n",
       "      <td>NaN</td>\n",
       "      <td>163.0</td>\n",
       "      <td>NaN</td>\n",
       "      <td>NaN</td>\n",
       "      <td>NaN</td>\n",
       "      <td>NaN</td>\n",
       "      <td>NaN</td>\n",
       "      <td>NaN</td>\n",
       "      <td>2020</td>\n",
       "      <td>08</td>\n",
       "      <td>18</td>\n",
       "      <td>1</td>\n",
       "      <td>2</td>\n",
       "      <td>3</td>\n",
       "    </tr>\n",
       "    <tr>\n",
       "      <th>42882</th>\n",
       "      <td>42883</td>\n",
       "      <td>2020-08-18-14-29-48.MOV</td>\n",
       "      <td>NaN</td>\n",
       "      <td>NaN</td>\n",
       "      <td>163.0</td>\n",
       "      <td>NaN</td>\n",
       "      <td>NaN</td>\n",
       "      <td>NaN</td>\n",
       "      <td>NaN</td>\n",
       "      <td>NaN</td>\n",
       "      <td>NaN</td>\n",
       "      <td>2020</td>\n",
       "      <td>08</td>\n",
       "      <td>18</td>\n",
       "      <td>1</td>\n",
       "      <td>2</td>\n",
       "      <td>4</td>\n",
       "    </tr>\n",
       "  </tbody>\n",
       "</table>\n",
       "</div>"
      ],
      "text/plain": [
       "          ID                     Name  PlaceId People  DevId Description  \\\n",
       "42873  42874  2020-08-16-16-00-57.JPG      NaN    NaN  163.0         NaN   \n",
       "42874  42875  2020-08-17-13-09-59.JPG      NaN    NaN  163.0         NaN   \n",
       "42875  42876  2020-08-17-13-10-07.JPG      NaN    NaN  163.0         NaN   \n",
       "42876  42877  2020-08-17-16-01-10.JPG      NaN    NaN  163.0         NaN   \n",
       "42877  42878  2020-08-17-16-01-18.JPG      NaN    NaN  163.0         NaN   \n",
       "42878  42879  2020-08-18-14-28-48.JPG      NaN    NaN  163.0         NaN   \n",
       "42879  42880  2020-08-18-14-28-51.JPG      NaN    NaN  163.0         NaN   \n",
       "42880  42881  2020-08-18-14-28-53.JPG      NaN    NaN  163.0         NaN   \n",
       "42881  42882  2020-08-18-14-29-30.JPG      NaN    NaN  163.0         NaN   \n",
       "42882  42883  2020-08-18-14-29-48.MOV      NaN    NaN  163.0         NaN   \n",
       "\n",
       "       ScanerId Comment  EventId ReasonPeople Tags  year month day hour min  \\\n",
       "42873       NaN     NaN      NaN          NaN  NaN  2020    08  16    1   0   \n",
       "42874       NaN     NaN      NaN          NaN  NaN  2020    08  17    1   0   \n",
       "42875       NaN     NaN      NaN          NaN  NaN  2020    08  17    1   1   \n",
       "42876       NaN     NaN      NaN          NaN  NaN  2020    08  17    1   0   \n",
       "42877       NaN     NaN      NaN          NaN  NaN  2020    08  17    1   0   \n",
       "42878       NaN     NaN      NaN          NaN  NaN  2020    08  18    1   2   \n",
       "42879       NaN     NaN      NaN          NaN  NaN  2020    08  18    1   2   \n",
       "42880       NaN     NaN      NaN          NaN  NaN  2020    08  18    1   2   \n",
       "42881       NaN     NaN      NaN          NaN  NaN  2020    08  18    1   2   \n",
       "42882       NaN     NaN      NaN          NaN  NaN  2020    08  18    1   2   \n",
       "\n",
       "      sec  \n",
       "42873   5  \n",
       "42874   5  \n",
       "42875   0  \n",
       "42876   1  \n",
       "42877   1  \n",
       "42878   4  \n",
       "42879   5  \n",
       "42880   5  \n",
       "42881   3  \n",
       "42882   4  "
      ]
     },
     "execution_count": 7,
     "metadata": {},
     "output_type": "execute_result"
    }
   ],
   "source": [
    "#1.How many photos per year, per month\n",
    "fvaFile['year'] = fvaFile['Name'].str.slice(0,4)\n",
    "fvaFile['month'] = fvaFile['Name'].str.slice(5,7)\n",
    "fvaFile['day'] = fvaFile['Name'].str.slice(8,10)\n",
    "fvaFile['hour'] = fvaFile['Name'].str.slice(11,12)\n",
    "fvaFile['min'] = fvaFile['Name'].str.slice(14,15)\n",
    "fvaFile['sec'] = fvaFile['Name'].str.slice(17,18)\n",
    "fvaFile.tail(10)"
   ]
  },
  {
   "cell_type": "code",
   "execution_count": 18,
   "metadata": {},
   "outputs": [
    {
     "data": {
      "text/plain": [
       "2007    4043\n",
       "2015    3667\n",
       "2018    3614\n",
       "2009    3610\n",
       "2013    3014\n",
       "2019    2953\n",
       "2011    2769\n",
       "2008    2749\n",
       "2014    2712\n",
       "2012    2631\n",
       "2017    2336\n",
       "2010    2267\n",
       "2006    1803\n",
       "2004    1389\n",
       "2016    1230\n",
       "2005    1164\n",
       "2020     416\n",
       "2003     197\n",
       "2002      44\n",
       "2001      37\n",
       "1977      26\n",
       "1984      20\n",
       "1986      17\n",
       "1978      14\n",
       "2000      13\n",
       "1989      13\n",
       "1975      13\n",
       "1976      11\n",
       "1994      10\n",
       "1987       9\n",
       "1996       8\n",
       "1983       8\n",
       "1990       8\n",
       "1979       7\n",
       "1993       6\n",
       "1971       5\n",
       "1991       5\n",
       "1988       5\n",
       "1999       4\n",
       "1997       4\n",
       "1982       4\n",
       "1972       3\n",
       "1992       3\n",
       "1974       3\n",
       "1998       3\n",
       "1973       3\n",
       "1980       3\n",
       "1985       2\n",
       "1981       2\n",
       "1995       2\n",
       "1965       1\n",
       "1970       1\n",
       "1968       1\n",
       "1960       1\n",
       "Name: year, dtype: int64"
      ]
     },
     "execution_count": 18,
     "metadata": {},
     "output_type": "execute_result"
    }
   ],
   "source": [
    "fvaFile[\"year\"].value_counts()"
   ]
  },
  {
   "cell_type": "code",
   "execution_count": 20,
   "metadata": {},
   "outputs": [],
   "source": [
    "#import matplotlib.pyplot as plt\n",
    "#plt.plot(fvaFile[\"year\"].value_counts().nlargest(10))"
   ]
  },
  {
   "cell_type": "code",
   "execution_count": 21,
   "metadata": {},
   "outputs": [
    {
     "data": {
      "text/plain": [
       "10    7239\n",
       "06    6422\n",
       "05    4055\n",
       "08    3810\n",
       "12    3699\n",
       "09    3224\n",
       "07    3114\n",
       "03    2933\n",
       "04    2665\n",
       "01    2443\n",
       "11    1875\n",
       "02    1216\n",
       "##     188\n",
       "Name: month, dtype: int64"
      ]
     },
     "execution_count": 21,
     "metadata": {},
     "output_type": "execute_result"
    }
   ],
   "source": [
    "fvaFile[\"month\"].value_counts()"
   ]
  },
  {
   "cell_type": "code",
   "execution_count": 23,
   "metadata": {},
   "outputs": [],
   "source": [
    "#plt.plot(fvaFile[\"month\"].value_counts())"
   ]
  },
  {
   "cell_type": "code",
   "execution_count": 25,
   "metadata": {},
   "outputs": [
    {
     "data": {
      "text/plain": [
       "2013-06-15    669\n",
       "2008-03-07    494\n",
       "2007-10-20    434\n",
       "2018-10-09    419\n",
       "2011-10-07    356\n",
       "2015-10-03    346\n",
       "2007-11-16    332\n",
       "2011-10-06    322\n",
       "2006-09-08    282\n",
       "2018-09-01    281\n",
       "Name: aDay, dtype: int64"
      ]
     },
     "execution_count": 25,
     "metadata": {},
     "output_type": "execute_result"
    }
   ],
   "source": [
    "#2.Maximal photo per day\n",
    "fvaFile['aDay'] = fvaFile['Name'].str.slice(0,10)\n",
    "fvaFile[\"aDay\"].value_counts().nlargest(10)\n",
    "#plt.plot(fvaFile[\"aDay\"].value_counts().nlargest(10))"
   ]
  },
  {
   "cell_type": "code",
   "execution_count": 26,
   "metadata": {},
   "outputs": [
    {
     "name": "stdout",
     "output_type": "stream",
     "text": [
      "{'nan': 9685, '4.0': 3304, '1.0': 1802, '100.0': 1497, '132.0': 1325, '2.0': 1195, '72.0': 1188, '146.0': 1167, '87.0': 858, '107.0': 841, '11.0': 779, '5.0': 673, '30.0': 660, '96.0': 635, '49.0': 576, '3.0': 512, '60.0': 499, '118.0': 486, '12.0': 356, '102.0': 337, '89.0': 331, '38.0': 324, '85.0': 324, '188.0': 309, '48.0': 309, '76.0': 307, '116.0': 288, '181.0': 281, '6.0': 271, '130.0': 258, '70.0': 246, '147.0': 244, '182.0': 241, '187.0': 241, '97.0': 231, '40.0': 231, '131.0': 226, '105.0': 221, '228.0': 212, '69.0': 203, '93.0': 201, '208.0': 185, '154.0': 180, '127.0': 172, '14.0': 162, '92.0': 156, '78.0': 155, '169.0': 150, '10.0': 141, '71.0': 140, '172.0': 134, '134.0': 130, '247.0': 130, '68.0': 127, '161.0': 127, '153.0': 126, '62.0': 118, '167.0': 116, '189.0': 114, '240.0': 111, '158.0': 111, '149.0': 110, '144.0': 107, '150.0': 107, '77.0': 106, '139.0': 105, '244.0': 104, '204.0': 103, '259.0': 101, '148.0': 99, '203.0': 98, '249.0': 93, '180.0': 91, '112.0': 90, '155.0': 86, '82.0': 86, '231.0': 86, '15.0': 86, '129.0': 86, '120.0': 85, '101.0': 78, '111.0': 77, '122.0': 76, '90.0': 75, '173.0': 73, '241.0': 73, '26.0': 72, '243.0': 71, '0.0': 71, '159.0': 65, '103.0': 62, '285.0': 61, '250.0': 60, '209.0': 60, '95.0': 59, '119.0': 58, '86.0': 58, '99.0': 57, '166.0': 57, '98.0': 56, '17.0': 55, '27.0': 55, '84.0': 54, '16.0': 54, '110.0': 54, '106.0': 53, '226.0': 52, '207.0': 52, '273.0': 52, '7.0': 50, '191.0': 47, '245.0': 46, '151.0': 46, '123.0': 45, '178.0': 44, '157.0': 44, '242.0': 43, '246.0': 42, '46.0': 42, '104.0': 41, '140.0': 41, '64.0': 41, '50.0': 41, '114.0': 39, '190.0': 39, '215.0': 39, '9.0': 38, '142.0': 37, '183.0': 37, '186.0': 37, '115.0': 36, '198.0': 35, '254.0': 35, '126.0': 35, '229.0': 34, '125.0': 34, '113.0': 33, '145.0': 32, '171.0': 31, '286.0': 31, '174.0': 31, '248.0': 30, '230.0': 30, '63.0': 28, '170.0': 27, '160.0': 27, '8.0': 27, '284.0': 26, '128.0': 26, '197.0': 25, '214.0': 25, '274.0': 24, '73.0': 24, '165.0': 24, '217.0': 23, '91.0': 23, '227.0': 23, '65.0': 22, '232.0': 21, '162.0': 18, '216.0': 17, '66.0': 17, '20.0': 17, '218.0': 17, '179.0': 17, '213.0': 17, '143.0': 16, '24.0': 16, '56.0': 16, '94.0': 15, '196.0': 15, '185.0': 15, '175.0': 14, '195.0': 14, '152.0': 14, '202.0': 14, '280.0': 13, '141.0': 13, '61.0': 13, '18.0': 13, '220.0': 13, '210.0': 13, '109.0': 12, '252.0': 12, '262.0': 12, '253.0': 11, '67.0': 11, '31.0': 11, '25.0': 11, '33.0': 10, '200.0': 10, '29.0': 10, '238.0': 10, '271.0': 10, '184.0': 10, '117.0': 9, '260.0': 9, '206.0': 9, '79.0': 9, '212.0': 9, '219.0': 8, '201.0': 8, '39.0': 8, '135.0': 8, '193.0': 8, '222.0': 8, '251.0': 8, '81.0': 8, '223.0': 7, '225.0': 7, '224.0': 7, '237.0': 7, '28.0': 7, '192.0': 7, '176.0': 7, '88.0': 7, '136.0': 7, '281.0': 7, '177.0': 7, '283.0': 6, '258.0': 6, '211.0': 6, '236.0': 6, '194.0': 6, '168.0': 6, '75.0': 6, '124.0': 6, '32.0': 6, '83.0': 6, '275.0': 5, '282.0': 5, '74.0': 5, '59.0': 5, '19.0': 5, '221.0': 5, '23.0': 5, '234.0': 5, '278.0': 5, '37.0': 4, '108.0': 4, '121.0': 4, '36.0': 4, '279.0': 4, '257.0': 4, '156.0': 4, '265.0': 4, '133.0': 4, '163.0': 4, '138.0': 4, '205.0': 3, '80.0': 3, '45.0': 3, '276.0': 3, '233.0': 3, '44.0': 3, '13.0': 3, '137.0': 3, '269.0': 3, '199.0': 3, '255.0': 3, '239.0': 3, '164.0': 2, '263.0': 2, '51.0': 2, '261.0': 2, '35.0': 2, '277.0': 2, '235.0': 2, '47.0': 2, '42.0': 2, '256.0': 2, '22.0': 1, '272.0': 1, '34.0': 1, '52.0': 1, '266.0': 1, '57.0': 1, '53.0': 1, '55.0': 1, '21.0': 1, '267.0': 1, '270.0': 1, '264.0': 1, '268.0': 1, '43.0': 1, '54.0': 1, '41.0': 1}\n"
     ]
    }
   ],
   "source": [
    "#3.How many photos without place assigned?\n",
    "#4.Maximal photos in one place\n",
    "#5.How many photos assigned to each place?\n",
    "import numpy as np\n",
    "fvaFile.replace(r'^\\s*$', np.nan, regex=True)\n",
    "len(fvaFile[fvaFile[\"PlaceId\"]==None])\n",
    "#pd.options.display.max_rows = 100\n",
    "fvaFile[\"PlaceId\"].value_counts(dropna=False)\n",
    "#fvaFile.groupby([\"PlaceId\"]).groups\n",
    "vc = fvaFile[\"PlaceId\"].value_counts(dropna=False)\n",
    "vc.index = vc.index.astype(str)\n",
    "print (vc.to_dict())"
   ]
  },
  {
   "cell_type": "code",
   "execution_count": 27,
   "metadata": {},
   "outputs": [],
   "source": [
    "#import matplotlib.pyplot as plt\n",
    "#plt.plot(fvaFile[\"PlaceId\"].value_counts())"
   ]
  },
  {
   "cell_type": "code",
   "execution_count": 28,
   "metadata": {},
   "outputs": [
    {
     "data": {
      "text/plain": [
       "NaN        42698\n",
       "1             41\n",
       "4             39\n",
       "2             15\n",
       "5              9\n",
       "           ...  \n",
       "18,1           1\n",
       "5,1            1\n",
       "20,19          1\n",
       "38,27,1        1\n",
       "4,2            1\n",
       "Name: People, Length: 70, dtype: int64"
      ]
     },
     "execution_count": 28,
     "metadata": {},
     "output_type": "execute_result"
    }
   ],
   "source": [
    "#6.How many people assigned totally?\n",
    "#7.How many photos without people assigned?\n",
    "fvaFile[\"People\"].value_counts(dropna=False)"
   ]
  },
  {
   "cell_type": "code",
   "execution_count": null,
   "metadata": {},
   "outputs": [],
   "source": [
    "#8.How many photos assigned to each device?\n",
    "#9.How many devices assigned totally?\n",
    "#10.How many photos without devices assigned totally?"
   ]
  },
  {
   "cell_type": "code",
   "execution_count": 29,
   "metadata": {},
   "outputs": [
    {
     "data": {
      "text/plain": [
       "1.0      14805\n",
       "124.0     4588\n",
       "2.0       3176\n",
       "6.0       2489\n",
       "19.0      1146\n",
       "         ...  \n",
       "137.0        1\n",
       "126.0        1\n",
       "59.0         1\n",
       "128.0        1\n",
       "182.0        1\n",
       "Name: DevId, Length: 185, dtype: int64"
      ]
     },
     "execution_count": 29,
     "metadata": {},
     "output_type": "execute_result"
    }
   ],
   "source": [
    "fvaFile[\"DevId\"].value_counts(dropna=False)\n",
    "#plt.plot(fvaFile[\"DevId\"].value_counts())"
   ]
  },
  {
   "cell_type": "code",
   "execution_count": null,
   "metadata": {},
   "outputs": [],
   "source": [
    "#11.How many photos have description/comments\n"
   ]
  },
  {
   "cell_type": "code",
   "execution_count": 93,
   "metadata": {},
   "outputs": [],
   "source": [
    "#fvaFile.corr()"
   ]
  },
  {
   "cell_type": "code",
   "execution_count": 90,
   "metadata": {},
   "outputs": [],
   "source": [
    "#fvaFile.groupby([\"PlaceId\"]).groups"
   ]
  },
  {
   "cell_type": "code",
   "execution_count": 91,
   "metadata": {},
   "outputs": [],
   "source": [
    "#fvaFile.groupby([\"DevId\"]).groups"
   ]
  },
  {
   "cell_type": "code",
   "execution_count": 92,
   "metadata": {},
   "outputs": [],
   "source": [
    "#fvaFile.groupby([\"PlaceId\"]).first()"
   ]
  },
  {
   "cell_type": "code",
   "execution_count": 14,
   "metadata": {},
   "outputs": [
    {
     "data": {
      "text/plain": [
       "54"
      ]
     },
     "execution_count": 14,
     "metadata": {},
     "output_type": "execute_result"
    }
   ],
   "source": [
    "len(fvaFile[fvaFile[\"PlaceId\"]==16])"
   ]
  },
  {
   "cell_type": "code",
   "execution_count": null,
   "metadata": {},
   "outputs": [],
   "source": []
  }
 ],
 "metadata": {
  "kernelspec": {
   "display_name": "Python 3 (ipykernel)",
   "language": "python",
   "name": "python3"
  },
  "language_info": {
   "codemirror_mode": {
    "name": "ipython",
    "version": 3
   },
   "file_extension": ".py",
   "mimetype": "text/x-python",
   "name": "python",
   "nbconvert_exporter": "python",
   "pygments_lexer": "ipython3",
   "version": "3.9.9"
  }
 },
 "nbformat": 4,
 "nbformat_minor": 4
}
