{
 "cells": [
  {
   "cell_type": "code",
   "execution_count": null,
   "metadata": {},
   "outputs": [],
   "source": [
    "#1.How many photos per year, per month\n",
    "#2.Maximal photo per day\n",
    "#3.How many photos without place assigned?\n",
    "#4.Maximal photos in one place\n",
    "#5.How many photos assigned to each place?\n",
    "#6.How many people assigned totally?\n",
    "#7.How many photos without people assigned?\n",
    "#8.How many photos assigned to each device?\n",
    "#9.How many devices assigned totally?\n",
    "#10.How many photos without devices assigned totally?\n",
    "#11.How many photos have description/comments\n",
    "https://pandas.pydata.org/pandas-docs/stable/reference/api/pandas.DataFrame.html"
   ]
  },
  {
   "cell_type": "code",
   "execution_count": 50,
   "metadata": {},
   "outputs": [],
   "source": [
    "import pandas as pd\n",
    "fvaFile = pd.read_csv(\"c:/fva/#data#/fvaFile.csv\")"
   ]
  },
  {
   "cell_type": "code",
   "execution_count": 22,
   "metadata": {},
   "outputs": [
    {
     "data": {
      "text/plain": [
       "(42890, 11)"
      ]
     },
     "execution_count": 22,
     "metadata": {},
     "output_type": "execute_result"
    }
   ],
   "source": [
    "fvaFile.shape"
   ]
  },
  {
   "cell_type": "code",
   "execution_count": 23,
   "metadata": {},
   "outputs": [
    {
     "data": {
      "text/plain": [
       "Index(['ID', 'Name', 'PlaceId', 'People', 'DevId', 'Description', 'ScanerId',\n",
       "       'Comment', 'OldName', 'WhoTook', 'OldName1'],\n",
       "      dtype='object')"
      ]
     },
     "execution_count": 23,
     "metadata": {},
     "output_type": "execute_result"
    }
   ],
   "source": [
    "fvaFile.columns"
   ]
  },
  {
   "cell_type": "code",
   "execution_count": 24,
   "metadata": {},
   "outputs": [
    {
     "data": {
      "text/plain": [
       "ID               int64\n",
       "Name            object\n",
       "PlaceId         object\n",
       "People          object\n",
       "DevId          float64\n",
       "Description     object\n",
       "ScanerId        object\n",
       "Comment         object\n",
       "OldName         object\n",
       "WhoTook        float64\n",
       "OldName1        object\n",
       "dtype: object"
      ]
     },
     "execution_count": 24,
     "metadata": {},
     "output_type": "execute_result"
    }
   ],
   "source": [
    "fvaFile.dtypes"
   ]
  },
  {
   "cell_type": "code",
   "execution_count": 51,
   "metadata": {},
   "outputs": [],
   "source": [
    "#fvaFile.describe()"
   ]
  },
  {
   "cell_type": "code",
   "execution_count": 60,
   "metadata": {},
   "outputs": [],
   "source": [
    "#1.How many photos per year, per month\n",
    "fvaFile['year'] = fvaFile['Name'].str.slice(0,4)\n",
    "fvaFile['month'] = fvaFile['Name'].str.slice(5,7)\n",
    "fvaFile['day'] = fvaFile['Name'].str.slice(8,10)\n",
    "fvaFile['hour'] = fvaFile['Name'].str.slice(11,12)\n",
    "fvaFile['min'] = fvaFile['Name'].str.slice(14,15)\n",
    "fvaFile['sec'] = fvaFile['Name'].str.slice(17,18)\n",
    "#fvaFile.tail(10)"
   ]
  },
  {
   "cell_type": "code",
   "execution_count": 65,
   "metadata": {},
   "outputs": [],
   "source": [
    "#fvaFile[\"year\"].value_counts()"
   ]
  },
  {
   "cell_type": "code",
   "execution_count": 46,
   "metadata": {},
   "outputs": [
    {
     "data": {
      "text/plain": [
       "[<matplotlib.lines.Line2D at 0xa6a81c0>]"
      ]
     },
     "execution_count": 46,
     "metadata": {},
     "output_type": "execute_result"
    },
    {
     "data": {
      "image/png": "[encoded data removed]",
      "text/plain": [
       "<Figure size 432x288 with 1 Axes>"
      ]
     },
     "metadata": {
      "needs_background": "light"
     },
     "output_type": "display_data"
    }
   ],
   "source": [
    "import matplotlib.pyplot as plt\n",
    "plt.plot(fvaFile[\"year\"].value_counts().nlargest(10))"
   ]
  },
  {
   "cell_type": "code",
   "execution_count": 64,
   "metadata": {},
   "outputs": [],
   "source": [
    "#fvaFile[\"month\"].value_counts()"
   ]
  },
  {
   "cell_type": "code",
   "execution_count": 63,
   "metadata": {},
   "outputs": [
    {
     "data": {
      "text/plain": [
       "[<matplotlib.lines.Line2D at 0xdd68640>]"
      ]
     },
     "execution_count": 63,
     "metadata": {},
     "output_type": "execute_result"
    },
    {
     "data": {
      "image/png": "[encoded data removed]",
      "text/plain": [
       "<Figure size 432x288 with 1 Axes>"
      ]
     },
     "metadata": {
      "needs_background": "light"
     },
     "output_type": "display_data"
    }
   ],
   "source": [
    "plt.plot(fvaFile[\"month\"].value_counts())"
   ]
  },
  {
   "cell_type": "code",
   "execution_count": 73,
   "metadata": {},
   "outputs": [
    {
     "data": {
      "text/plain": [
       "2013-06-15    669\n",
       "2008-03-07    494\n",
       "2007-10-20    434\n",
       "2018-10-09    419\n",
       "2011-10-07    356\n",
       "2015-10-03    346\n",
       "2007-11-16    332\n",
       "2011-10-06    322\n",
       "2006-09-08    282\n",
       "2018-09-01    281\n",
       "Name: aDay, dtype: int64"
      ]
     },
     "execution_count": 73,
     "metadata": {},
     "output_type": "execute_result"
    }
   ],
   "source": [
    "#2.Maximal photo per day\n",
    "fvaFile['aDay'] = fvaFile['Name'].str.slice(0,10)\n",
    "fvaFile[\"aDay\"].value_counts().nlargest(10)\n",
    "#plt.plot(fvaFile[\"aDay\"].value_counts().nlargest(10))"
   ]
  },
  {
   "cell_type": "code",
   "execution_count": 82,
   "metadata": {},
   "outputs": [
    {
     "data": {
      "text/plain": [
       "NaN    42678\n",
       "1         38\n",
       "38        34\n",
       "8         27\n",
       "20        12\n",
       "           9\n",
       "7          8\n",
       "39         8\n",
       "32         6\n",
       "59         5\n",
       "5          5\n",
       "37         4\n",
       "36         4\n",
       "46         4\n",
       "44         3\n",
       "40         3\n",
       "45         3\n",
       "13         3\n",
       "50         3\n",
       "16         3\n",
       "42         2\n",
       "47         2\n",
       "33         2\n",
       "51         2\n",
       "17         2\n",
       "35         2\n",
       "56         2\n",
       "48         2\n",
       "49         1\n",
       "55         1\n",
       "22         1\n",
       "41         1\n",
       "25         1\n",
       "34         1\n",
       "57         1\n",
       "53         1\n",
       "30         1\n",
       "54         1\n",
       "3          1\n",
       "21         1\n",
       "43         1\n",
       "52         1\n",
       "Name: PlaceId, dtype: int64"
      ]
     },
     "execution_count": 82,
     "metadata": {},
     "output_type": "execute_result"
    }
   ],
   "source": [
    "#3.How many photos without place assigned?\n",
    "#4.Maximal photos in one place\n",
    "#5.How many photos assigned to each place?\n",
    "import numpy as np\n",
    "fvaFile.replace(r'^\\s*$', np.nan, regex=True)\n",
    "len(fvaFile[fvaFile[\"PlaceId\"]==None])\n",
    "fvaFile[\"PlaceId\"].value_counts(dropna=False)"
   ]
  },
  {
   "cell_type": "code",
   "execution_count": 89,
   "metadata": {},
   "outputs": [
    {
     "data": {
      "text/plain": [
       "[<matplotlib.lines.Line2D at 0xf8fa670>]"
      ]
     },
     "execution_count": 89,
     "metadata": {},
     "output_type": "execute_result"
    },
    {
     "data": {
      "image/png": "[encoded data removed]",
      "text/plain": [
       "<Figure size 432x288 with 1 Axes>"
      ]
     },
     "metadata": {
      "needs_background": "light"
     },
     "output_type": "display_data"
    }
   ],
   "source": [
    "import matplotlib.pyplot as plt\n",
    "plt.plot(fvaFile[\"PlaceId\"].value_counts())"
   ]
  },
  {
   "cell_type": "code",
   "execution_count": 84,
   "metadata": {},
   "outputs": [
    {
     "data": {
      "text/plain": [
       "NaN                        42699\n",
       "1                             41\n",
       "4                             39\n",
       "2                             15\n",
       "                               9\n",
       "                           ...  \n",
       "4,20,26                        1\n",
       "50                             1\n",
       "31,32                          1\n",
       "6,24,23,22,1,18,8,2,4,5        1\n",
       "21,7,6                         1\n",
       "Name: People, Length: 70, dtype: int64"
      ]
     },
     "execution_count": 84,
     "metadata": {},
     "output_type": "execute_result"
    }
   ],
   "source": [
    "#6.How many people assigned totally?\n",
    "#7.How many photos without people assigned?\n",
    "fvaFile[\"People\"].value_counts(dropna=False)"
   ]
  },
  {
   "cell_type": "code",
   "execution_count": null,
   "metadata": {},
   "outputs": [],
   "source": [
    "#8.How many photos assigned to each device?\n",
    "#9.How many devices assigned totally?\n",
    "#10.How many photos without devices assigned totally?"
   ]
  },
  {
   "cell_type": "code",
   "execution_count": 87,
   "metadata": {},
   "outputs": [
    {
     "data": {
      "text/plain": [
       "1.0      14805\n",
       "124.0     4588\n",
       "2.0       3176\n",
       "6.0       2489\n",
       "19.0      1146\n",
       "         ...  \n",
       "157.0        1\n",
       "84.0         1\n",
       "107.0        1\n",
       "71.0         1\n",
       "183.0        1\n",
       "Name: DevId, Length: 185, dtype: int64"
      ]
     },
     "execution_count": 87,
     "metadata": {},
     "output_type": "execute_result"
    }
   ],
   "source": [
    "fvaFile[\"DevId\"].value_counts(dropna=False)\n",
    "#plt.plot(fvaFile[\"DevId\"].value_counts())"
   ]
  },
  {
   "cell_type": "code",
   "execution_count": null,
   "metadata": {},
   "outputs": [],
   "source": [
    "#11.How many photos have description/comments\n"
   ]
  },
  {
   "cell_type": "code",
   "execution_count": 93,
   "metadata": {},
   "outputs": [],
   "source": [
    "#fvaFile.corr()"
   ]
  },
  {
   "cell_type": "code",
   "execution_count": 90,
   "metadata": {},
   "outputs": [],
   "source": [
    "#fvaFile.groupby([\"PlaceId\"]).groups"
   ]
  },
  {
   "cell_type": "code",
   "execution_count": 91,
   "metadata": {},
   "outputs": [],
   "source": [
    "#fvaFile.groupby([\"DevId\"]).groups"
   ]
  },
  {
   "cell_type": "code",
   "execution_count": 92,
   "metadata": {},
   "outputs": [],
   "source": [
    "#fvaFile.groupby([\"PlaceId\"]).first()"
   ]
  }
 ],
 "metadata": {
  "kernelspec": {
   "display_name": "Python 3",
   "language": "python",
   "name": "python3"
  },
  "language_info": {
   "codemirror_mode": {
    "name": "ipython",
    "version": 3
   },
   "file_extension": ".py",
   "mimetype": "text/x-python",
   "name": "python",
   "nbconvert_exporter": "python",
   "pygments_lexer": "ipython3",
   "version": "3.8.3"
  }
 },
 "nbformat": 4,
 "nbformat_minor": 4
}
