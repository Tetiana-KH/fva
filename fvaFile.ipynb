{
 "cells": [
  {
   "cell_type": "code",
   "execution_count": null,
   "metadata": {},
   "outputs": [],
   "source": [
    "#1.How many photos per year, per month\n",
    "#2.Maximal photo per day\n",
    "#3.How many photos without place assigned?\n",
    "#4.Maximal photos in one place\n",
    "#5.How many photos assigned to each place?\n",
    "#6.How many people assigned totally?\n",
    "#7.How many photos without people assigned?\n",
    "#8.How many photos assigned to each device?\n",
    "#9.How many devices assigned totally?\n",
    "#10.How many photos without devices assigned totally?\n",
    "#11.How many photos have description/comments\n",
    "https://pandas.pydata.org/pandas-docs/stable/reference/api/pandas.DataFrame.html"
   ]
  },
  {
   "cell_type": "code",
   "execution_count": 1,
   "metadata": {},
   "outputs": [],
   "source": [
    "import pandas as pd\n",
    "fvaFile = pd.read_csv(\"c:/fva/#data#/fvaFile.csv\")"
   ]
  },
  {
   "cell_type": "code",
   "execution_count": 2,
   "metadata": {},
   "outputs": [
    {
     "data": {
      "text/plain": [
       "(42885, 11)"
      ]
     },
     "execution_count": 2,
     "metadata": {},
     "output_type": "execute_result"
    }
   ],
   "source": [
    "fvaFile.shape"
   ]
  },
  {
   "cell_type": "code",
   "execution_count": 3,
   "metadata": {},
   "outputs": [
    {
     "data": {
      "text/plain": [
       "Index(['ID', 'Name', 'PlaceId', 'People', 'DevId', 'Description', 'ScanerId',\n",
       "       'Comment', 'EventId', 'ReasonPeople', 'Tags'],\n",
       "      dtype='object')"
      ]
     },
     "execution_count": 3,
     "metadata": {},
     "output_type": "execute_result"
    }
   ],
   "source": [
    "fvaFile.columns"
   ]
  },
  {
   "cell_type": "code",
   "execution_count": 4,
   "metadata": {},
   "outputs": [
    {
     "data": {
      "text/plain": [
       "ID                int64\n",
       "Name             object\n",
       "PlaceId         float64\n",
       "People           object\n",
       "DevId           float64\n",
       "Description      object\n",
       "ScanerId        float64\n",
       "Comment          object\n",
       "EventId         float64\n",
       "ReasonPeople     object\n",
       "Tags             object\n",
       "dtype: object"
      ]
     },
     "execution_count": 4,
     "metadata": {},
     "output_type": "execute_result"
    }
   ],
   "source": [
    "fvaFile.dtypes"
   ]
  },
  {
   "cell_type": "code",
   "execution_count": 5,
   "metadata": {},
   "outputs": [
    {
     "data": {
      "text/html": [
       "<div>\n",
       "<style scoped>\n",
       "    .dataframe tbody tr th:only-of-type {\n",
       "        vertical-align: middle;\n",
       "    }\n",
       "\n",
       "    .dataframe tbody tr th {\n",
       "        vertical-align: top;\n",
       "    }\n",
       "\n",
       "    .dataframe thead th {\n",
       "        text-align: right;\n",
       "    }\n",
       "</style>\n",
       "<table border=\"1\" class=\"dataframe\">\n",
       "  <thead>\n",
       "    <tr style=\"text-align: right;\">\n",
       "      <th></th>\n",
       "      <th>ID</th>\n",
       "      <th>PlaceId</th>\n",
       "      <th>DevId</th>\n",
       "      <th>ScanerId</th>\n",
       "      <th>EventId</th>\n",
       "    </tr>\n",
       "  </thead>\n",
       "  <tbody>\n",
       "    <tr>\n",
       "      <th>count</th>\n",
       "      <td>42885.000000</td>\n",
       "      <td>33254.000000</td>\n",
       "      <td>42640.000000</td>\n",
       "      <td>315.000000</td>\n",
       "      <td>25335.000000</td>\n",
       "    </tr>\n",
       "    <tr>\n",
       "      <th>mean</th>\n",
       "      <td>22332.780926</td>\n",
       "      <td>70.615745</td>\n",
       "      <td>47.263274</td>\n",
       "      <td>121.107937</td>\n",
       "      <td>28.614999</td>\n",
       "    </tr>\n",
       "    <tr>\n",
       "      <th>std</th>\n",
       "      <td>13004.196516</td>\n",
       "      <td>57.981659</td>\n",
       "      <td>59.562505</td>\n",
       "      <td>0.310794</td>\n",
       "      <td>26.318544</td>\n",
       "    </tr>\n",
       "    <tr>\n",
       "      <th>min</th>\n",
       "      <td>1.000000</td>\n",
       "      <td>0.000000</td>\n",
       "      <td>0.000000</td>\n",
       "      <td>121.000000</td>\n",
       "      <td>1.000000</td>\n",
       "    </tr>\n",
       "    <tr>\n",
       "      <th>25%</th>\n",
       "      <td>11085.000000</td>\n",
       "      <td>11.000000</td>\n",
       "      <td>1.000000</td>\n",
       "      <td>121.000000</td>\n",
       "      <td>5.000000</td>\n",
       "    </tr>\n",
       "    <tr>\n",
       "      <th>50%</th>\n",
       "      <td>22409.000000</td>\n",
       "      <td>72.000000</td>\n",
       "      <td>6.000000</td>\n",
       "      <td>121.000000</td>\n",
       "      <td>36.000000</td>\n",
       "    </tr>\n",
       "    <tr>\n",
       "      <th>75%</th>\n",
       "      <td>33386.000000</td>\n",
       "      <td>116.000000</td>\n",
       "      <td>119.000000</td>\n",
       "      <td>121.000000</td>\n",
       "      <td>39.000000</td>\n",
       "    </tr>\n",
       "    <tr>\n",
       "      <th>max</th>\n",
       "      <td>45385.000000</td>\n",
       "      <td>189.000000</td>\n",
       "      <td>188.000000</td>\n",
       "      <td>122.000000</td>\n",
       "      <td>204.000000</td>\n",
       "    </tr>\n",
       "  </tbody>\n",
       "</table>\n",
       "</div>"
      ],
      "text/plain": [
       "                 ID       PlaceId         DevId    ScanerId       EventId\n",
       "count  42885.000000  33254.000000  42640.000000  315.000000  25335.000000\n",
       "mean   22332.780926     70.615745     47.263274  121.107937     28.614999\n",
       "std    13004.196516     57.981659     59.562505    0.310794     26.318544\n",
       "min        1.000000      0.000000      0.000000  121.000000      1.000000\n",
       "25%    11085.000000     11.000000      1.000000  121.000000      5.000000\n",
       "50%    22409.000000     72.000000      6.000000  121.000000     36.000000\n",
       "75%    33386.000000    116.000000    119.000000  121.000000     39.000000\n",
       "max    45385.000000    189.000000    188.000000  122.000000    204.000000"
      ]
     },
     "execution_count": 5,
     "metadata": {},
     "output_type": "execute_result"
    }
   ],
   "source": [
    "fvaFile.describe()"
   ]
  },
  {
   "cell_type": "code",
   "execution_count": 7,
   "metadata": {},
   "outputs": [
    {
     "data": {
      "text/html": [
       "<div>\n",
       "<style scoped>\n",
       "    .dataframe tbody tr th:only-of-type {\n",
       "        vertical-align: middle;\n",
       "    }\n",
       "\n",
       "    .dataframe tbody tr th {\n",
       "        vertical-align: top;\n",
       "    }\n",
       "\n",
       "    .dataframe thead th {\n",
       "        text-align: right;\n",
       "    }\n",
       "</style>\n",
       "<table border=\"1\" class=\"dataframe\">\n",
       "  <thead>\n",
       "    <tr style=\"text-align: right;\">\n",
       "      <th></th>\n",
       "      <th>ID</th>\n",
       "      <th>Name</th>\n",
       "      <th>PlaceId</th>\n",
       "      <th>People</th>\n",
       "      <th>DevId</th>\n",
       "      <th>Description</th>\n",
       "      <th>ScanerId</th>\n",
       "      <th>Comment</th>\n",
       "      <th>EventId</th>\n",
       "      <th>ReasonPeople</th>\n",
       "      <th>Tags</th>\n",
       "      <th>year</th>\n",
       "      <th>month</th>\n",
       "      <th>day</th>\n",
       "      <th>hour</th>\n",
       "      <th>min</th>\n",
       "      <th>sec</th>\n",
       "    </tr>\n",
       "  </thead>\n",
       "  <tbody>\n",
       "    <tr>\n",
       "      <th>42875</th>\n",
       "      <td>45376</td>\n",
       "      <td>2019-07-06-15-29-56.jpg</td>\n",
       "      <td>NaN</td>\n",
       "      <td>NaN</td>\n",
       "      <td>160.0</td>\n",
       "      <td>NaN</td>\n",
       "      <td>NaN</td>\n",
       "      <td>NaN</td>\n",
       "      <td>NaN</td>\n",
       "      <td>NaN</td>\n",
       "      <td>NaN</td>\n",
       "      <td>2019</td>\n",
       "      <td>07</td>\n",
       "      <td>06</td>\n",
       "      <td>1</td>\n",
       "      <td>2</td>\n",
       "      <td>5</td>\n",
       "    </tr>\n",
       "    <tr>\n",
       "      <th>42876</th>\n",
       "      <td>45377</td>\n",
       "      <td>2019-07-06-15-30-11.jpg</td>\n",
       "      <td>NaN</td>\n",
       "      <td>NaN</td>\n",
       "      <td>160.0</td>\n",
       "      <td>NaN</td>\n",
       "      <td>NaN</td>\n",
       "      <td>NaN</td>\n",
       "      <td>NaN</td>\n",
       "      <td>NaN</td>\n",
       "      <td>NaN</td>\n",
       "      <td>2019</td>\n",
       "      <td>07</td>\n",
       "      <td>06</td>\n",
       "      <td>1</td>\n",
       "      <td>3</td>\n",
       "      <td>1</td>\n",
       "    </tr>\n",
       "    <tr>\n",
       "      <th>42877</th>\n",
       "      <td>45378</td>\n",
       "      <td>2019-07-06-15-31-18.jpg</td>\n",
       "      <td>NaN</td>\n",
       "      <td>NaN</td>\n",
       "      <td>160.0</td>\n",
       "      <td>NaN</td>\n",
       "      <td>NaN</td>\n",
       "      <td>NaN</td>\n",
       "      <td>NaN</td>\n",
       "      <td>NaN</td>\n",
       "      <td>NaN</td>\n",
       "      <td>2019</td>\n",
       "      <td>07</td>\n",
       "      <td>06</td>\n",
       "      <td>1</td>\n",
       "      <td>3</td>\n",
       "      <td>1</td>\n",
       "    </tr>\n",
       "    <tr>\n",
       "      <th>42878</th>\n",
       "      <td>45379</td>\n",
       "      <td>2019-07-06-15-49-14.jpg</td>\n",
       "      <td>NaN</td>\n",
       "      <td>NaN</td>\n",
       "      <td>160.0</td>\n",
       "      <td>NaN</td>\n",
       "      <td>NaN</td>\n",
       "      <td>NaN</td>\n",
       "      <td>NaN</td>\n",
       "      <td>NaN</td>\n",
       "      <td>NaN</td>\n",
       "      <td>2019</td>\n",
       "      <td>07</td>\n",
       "      <td>06</td>\n",
       "      <td>1</td>\n",
       "      <td>4</td>\n",
       "      <td>1</td>\n",
       "    </tr>\n",
       "    <tr>\n",
       "      <th>42879</th>\n",
       "      <td>45380</td>\n",
       "      <td>2019-07-06-16-12-52.jpg</td>\n",
       "      <td>NaN</td>\n",
       "      <td>NaN</td>\n",
       "      <td>160.0</td>\n",
       "      <td>NaN</td>\n",
       "      <td>NaN</td>\n",
       "      <td>NaN</td>\n",
       "      <td>NaN</td>\n",
       "      <td>NaN</td>\n",
       "      <td>NaN</td>\n",
       "      <td>2019</td>\n",
       "      <td>07</td>\n",
       "      <td>06</td>\n",
       "      <td>1</td>\n",
       "      <td>1</td>\n",
       "      <td>5</td>\n",
       "    </tr>\n",
       "    <tr>\n",
       "      <th>42880</th>\n",
       "      <td>45381</td>\n",
       "      <td>2019-07-06-16-14-36.jpg</td>\n",
       "      <td>NaN</td>\n",
       "      <td>NaN</td>\n",
       "      <td>160.0</td>\n",
       "      <td>NaN</td>\n",
       "      <td>NaN</td>\n",
       "      <td>NaN</td>\n",
       "      <td>NaN</td>\n",
       "      <td>NaN</td>\n",
       "      <td>NaN</td>\n",
       "      <td>2019</td>\n",
       "      <td>07</td>\n",
       "      <td>06</td>\n",
       "      <td>1</td>\n",
       "      <td>1</td>\n",
       "      <td>3</td>\n",
       "    </tr>\n",
       "    <tr>\n",
       "      <th>42881</th>\n",
       "      <td>45382</td>\n",
       "      <td>2019-07-06-16-59-38.jpg</td>\n",
       "      <td>NaN</td>\n",
       "      <td>NaN</td>\n",
       "      <td>160.0</td>\n",
       "      <td>NaN</td>\n",
       "      <td>NaN</td>\n",
       "      <td>NaN</td>\n",
       "      <td>NaN</td>\n",
       "      <td>NaN</td>\n",
       "      <td>NaN</td>\n",
       "      <td>2019</td>\n",
       "      <td>07</td>\n",
       "      <td>06</td>\n",
       "      <td>1</td>\n",
       "      <td>5</td>\n",
       "      <td>3</td>\n",
       "    </tr>\n",
       "    <tr>\n",
       "      <th>42882</th>\n",
       "      <td>45383</td>\n",
       "      <td>2019-07-06-16-59-44.jpg</td>\n",
       "      <td>NaN</td>\n",
       "      <td>NaN</td>\n",
       "      <td>160.0</td>\n",
       "      <td>NaN</td>\n",
       "      <td>NaN</td>\n",
       "      <td>NaN</td>\n",
       "      <td>NaN</td>\n",
       "      <td>NaN</td>\n",
       "      <td>NaN</td>\n",
       "      <td>2019</td>\n",
       "      <td>07</td>\n",
       "      <td>06</td>\n",
       "      <td>1</td>\n",
       "      <td>5</td>\n",
       "      <td>4</td>\n",
       "    </tr>\n",
       "    <tr>\n",
       "      <th>42883</th>\n",
       "      <td>45384</td>\n",
       "      <td>2019-07-06-17-22-21.jpg</td>\n",
       "      <td>NaN</td>\n",
       "      <td>NaN</td>\n",
       "      <td>160.0</td>\n",
       "      <td>NaN</td>\n",
       "      <td>NaN</td>\n",
       "      <td>NaN</td>\n",
       "      <td>NaN</td>\n",
       "      <td>NaN</td>\n",
       "      <td>NaN</td>\n",
       "      <td>2019</td>\n",
       "      <td>07</td>\n",
       "      <td>06</td>\n",
       "      <td>1</td>\n",
       "      <td>2</td>\n",
       "      <td>2</td>\n",
       "    </tr>\n",
       "    <tr>\n",
       "      <th>42884</th>\n",
       "      <td>45385</td>\n",
       "      <td>2019-07-06-18-16-27.mp4</td>\n",
       "      <td>NaN</td>\n",
       "      <td>NaN</td>\n",
       "      <td>160.0</td>\n",
       "      <td>NaN</td>\n",
       "      <td>NaN</td>\n",
       "      <td>NaN</td>\n",
       "      <td>NaN</td>\n",
       "      <td>NaN</td>\n",
       "      <td>NaN</td>\n",
       "      <td>2019</td>\n",
       "      <td>07</td>\n",
       "      <td>06</td>\n",
       "      <td>1</td>\n",
       "      <td>1</td>\n",
       "      <td>2</td>\n",
       "    </tr>\n",
       "  </tbody>\n",
       "</table>\n",
       "</div>"
      ],
      "text/plain": [
       "          ID                     Name  PlaceId People  DevId Description  \\\n",
       "42875  45376  2019-07-06-15-29-56.jpg      NaN    NaN  160.0         NaN   \n",
       "42876  45377  2019-07-06-15-30-11.jpg      NaN    NaN  160.0         NaN   \n",
       "42877  45378  2019-07-06-15-31-18.jpg      NaN    NaN  160.0         NaN   \n",
       "42878  45379  2019-07-06-15-49-14.jpg      NaN    NaN  160.0         NaN   \n",
       "42879  45380  2019-07-06-16-12-52.jpg      NaN    NaN  160.0         NaN   \n",
       "42880  45381  2019-07-06-16-14-36.jpg      NaN    NaN  160.0         NaN   \n",
       "42881  45382  2019-07-06-16-59-38.jpg      NaN    NaN  160.0         NaN   \n",
       "42882  45383  2019-07-06-16-59-44.jpg      NaN    NaN  160.0         NaN   \n",
       "42883  45384  2019-07-06-17-22-21.jpg      NaN    NaN  160.0         NaN   \n",
       "42884  45385  2019-07-06-18-16-27.mp4      NaN    NaN  160.0         NaN   \n",
       "\n",
       "       ScanerId Comment  EventId ReasonPeople Tags  year month day hour min  \\\n",
       "42875       NaN     NaN      NaN          NaN  NaN  2019    07  06    1   2   \n",
       "42876       NaN     NaN      NaN          NaN  NaN  2019    07  06    1   3   \n",
       "42877       NaN     NaN      NaN          NaN  NaN  2019    07  06    1   3   \n",
       "42878       NaN     NaN      NaN          NaN  NaN  2019    07  06    1   4   \n",
       "42879       NaN     NaN      NaN          NaN  NaN  2019    07  06    1   1   \n",
       "42880       NaN     NaN      NaN          NaN  NaN  2019    07  06    1   1   \n",
       "42881       NaN     NaN      NaN          NaN  NaN  2019    07  06    1   5   \n",
       "42882       NaN     NaN      NaN          NaN  NaN  2019    07  06    1   5   \n",
       "42883       NaN     NaN      NaN          NaN  NaN  2019    07  06    1   2   \n",
       "42884       NaN     NaN      NaN          NaN  NaN  2019    07  06    1   1   \n",
       "\n",
       "      sec  \n",
       "42875   5  \n",
       "42876   1  \n",
       "42877   1  \n",
       "42878   1  \n",
       "42879   5  \n",
       "42880   3  \n",
       "42881   3  \n",
       "42882   4  \n",
       "42883   2  \n",
       "42884   2  "
      ]
     },
     "execution_count": 7,
     "metadata": {},
     "output_type": "execute_result"
    }
   ],
   "source": [
    "#1.How many photos per year, per month\n",
    "fvaFile['year'] = fvaFile['Name'].str.slice(0,4)\n",
    "fvaFile['month'] = fvaFile['Name'].str.slice(5,7)\n",
    "fvaFile['day'] = fvaFile['Name'].str.slice(8,10)\n",
    "fvaFile['hour'] = fvaFile['Name'].str.slice(11,12)\n",
    "fvaFile['min'] = fvaFile['Name'].str.slice(14,15)\n",
    "fvaFile['sec'] = fvaFile['Name'].str.slice(17,18)\n",
    "fvaFile.tail(10)"
   ]
  },
  {
   "cell_type": "code",
   "execution_count": 8,
   "metadata": {},
   "outputs": [
    {
     "data": {
      "text/plain": [
       "2007    4043\n",
       "2015    3667\n",
       "2018    3614\n",
       "2009    3610\n",
       "2013    3014\n",
       "2019    2953\n",
       "2011    2769\n",
       "2008    2749\n",
       "2014    2712\n",
       "2012    2631\n",
       "2017    2336\n",
       "2010    2267\n",
       "2006    1803\n",
       "2004    1389\n",
       "2016    1232\n",
       "2005    1164\n",
       "2020     416\n",
       "2003     197\n",
       "2002      44\n",
       "2001      37\n",
       "1977      26\n",
       "1984      20\n",
       "1986      17\n",
       "1978      14\n",
       "1989      13\n",
       "1975      13\n",
       "2000      13\n",
       "1976      11\n",
       "1994      10\n",
       "1987       9\n",
       "1990       8\n",
       "1996       8\n",
       "1983       8\n",
       "1979       7\n",
       "1993       6\n",
       "1988       5\n",
       "1971       5\n",
       "1991       5\n",
       "1999       4\n",
       "1997       4\n",
       "1982       4\n",
       "1992       3\n",
       "1998       3\n",
       "1973       3\n",
       "1974       3\n",
       "1972       3\n",
       "1980       3\n",
       "1985       2\n",
       "1995       2\n",
       "1981       2\n",
       "1960       1\n",
       "1965       1\n",
       "1968       1\n",
       "1970       1\n",
       "Name: year, dtype: int64"
      ]
     },
     "execution_count": 8,
     "metadata": {},
     "output_type": "execute_result"
    }
   ],
   "source": [
    "fvaFile[\"year\"].value_counts()"
   ]
  },
  {
   "cell_type": "code",
   "execution_count": 9,
   "metadata": {},
   "outputs": [
    {
     "data": {
      "text/plain": [
       "[<matplotlib.lines.Line2D at 0xb5a3490>]"
      ]
     },
     "execution_count": 9,
     "metadata": {},
     "output_type": "execute_result"
    },
    {
     "data": {
      "image/png": "[encoded data removed]",
      "text/plain": [
       "<Figure size 432x288 with 1 Axes>"
      ]
     },
     "metadata": {
      "needs_background": "light"
     },
     "output_type": "display_data"
    }
   ],
   "source": [
    "import matplotlib.pyplot as plt\n",
    "plt.plot(fvaFile[\"year\"].value_counts().nlargest(10))"
   ]
  },
  {
   "cell_type": "code",
   "execution_count": 10,
   "metadata": {},
   "outputs": [
    {
     "data": {
      "text/plain": [
       "10    7239\n",
       "06    6422\n",
       "05    4055\n",
       "08    3810\n",
       "12    3699\n",
       "09    3224\n",
       "07    3114\n",
       "03    2933\n",
       "04    2667\n",
       "01    2443\n",
       "11    1875\n",
       "02    1216\n",
       "##     188\n",
       "Name: month, dtype: int64"
      ]
     },
     "execution_count": 10,
     "metadata": {},
     "output_type": "execute_result"
    }
   ],
   "source": [
    "fvaFile[\"month\"].value_counts()"
   ]
  },
  {
   "cell_type": "code",
   "execution_count": 11,
   "metadata": {},
   "outputs": [
    {
     "data": {
      "text/plain": [
       "[<matplotlib.lines.Line2D at 0xb642388>]"
      ]
     },
     "execution_count": 11,
     "metadata": {},
     "output_type": "execute_result"
    },
    {
     "data": {
      "image/png": "[encoded data removed]",
      "text/plain": [
       "<Figure size 432x288 with 1 Axes>"
      ]
     },
     "metadata": {
      "needs_background": "light"
     },
     "output_type": "display_data"
    }
   ],
   "source": [
    "plt.plot(fvaFile[\"month\"].value_counts())"
   ]
  },
  {
   "cell_type": "code",
   "execution_count": 12,
   "metadata": {},
   "outputs": [
    {
     "data": {
      "text/plain": [
       "[<matplotlib.lines.Line2D at 0xb81efe8>]"
      ]
     },
     "execution_count": 12,
     "metadata": {},
     "output_type": "execute_result"
    },
    {
     "data": {
      "image/png": "[encoded data removed]",
      "text/plain": [
       "<Figure size 432x288 with 1 Axes>"
      ]
     },
     "metadata": {
      "needs_background": "light"
     },
     "output_type": "display_data"
    }
   ],
   "source": [
    "#2.Maximal photo per day\n",
    "fvaFile['aDay'] = fvaFile['Name'].str.slice(0,10)\n",
    "fvaFile[\"aDay\"].value_counts().nlargest(10)\n",
    "plt.plot(fvaFile[\"aDay\"].value_counts().nlargest(10))"
   ]
  },
  {
   "cell_type": "code",
   "execution_count": 17,
   "metadata": {},
   "outputs": [
    {
     "name": "stdout",
     "output_type": "stream",
     "text": [
      "{'nan': 9631, '4.0': 3304, '14.0': 2242, '1.0': 1785, '100.0': 1497, '132.0': 1325, '2.0': 1195, '72.0': 1188, '146.0': 1167, '30.0': 1092, '87.0': 894, '107.0': 841, '11.0': 779, '5.0': 673, '96.0': 635, '49.0': 576, '3.0': 502, '60.0': 499, '118.0': 486, '76.0': 371, '85.0': 362, '12.0': 352, '102.0': 337, '89.0': 331, '38.0': 328, '48.0': 320, '188.0': 309, '116.0': 288, '181.0': 281, '6.0': 263, '130.0': 258, '182.0': 248, '70.0': 246, '147.0': 244, '187.0': 241, '40.0': 231, '97.0': 231, '154.0': 227, '131.0': 226, '105.0': 221, '69.0': 203, '93.0': 202, '127.0': 172, '92.0': 156, '78.0': 155, '169.0': 150, '10.0': 141, '71.0': 140, '134.0': 139, '161.0': 136, '172.0': 134, '68.0': 127, '153.0': 126, '108.0': 122, '62.0': 118, '167.0': 116, '189.0': 114, '77.0': 114, '150.0': 111, '158.0': 111, '149.0': 110, '144.0': 107, '139.0': 105, '148.0': 99, '180.0': 91, '112.0': 90, '15.0': 86, '155.0': 86, '82.0': 86, '129.0': 86, '120.0': 85, '101.0': 78, '111.0': 77, '122.0': 76, '90.0': 75, '173.0': 73, '26.0': 72, '0.0': 71, '159.0': 65, '103.0': 62, '95.0': 59, '166.0': 59, '86.0': 58, '119.0': 58, '99.0': 57, '98.0': 56, '17.0': 55, '27.0': 55, '110.0': 54, '106.0': 53, '46.0': 50, '84.0': 49, '64.0': 49, '104.0': 47, '151.0': 46, '123.0': 45, '178.0': 44, '157.0': 44, '7.0': 43, '140.0': 41, '50.0': 41, '114.0': 39, '9.0': 38, '142.0': 37, '186.0': 37, '183.0': 37, '115.0': 36, '126.0': 35, '113.0': 33, '145.0': 32, '125.0': 32, '171.0': 31, '174.0': 31, '63.0': 28, '170.0': 27, '160.0': 27, '8.0': 27, '128.0': 26, '73.0': 24, '165.0': 24, '91.0': 23, '65.0': 22, '162.0': 18, '179.0': 17, '20.0': 17, '66.0': 17, '56.0': 16, '143.0': 16, '94.0': 15, '185.0': 15, '24.0': 15, '175.0': 14, '152.0': 14, '61.0': 13, '18.0': 13, '141.0': 13, '109.0': 12, '31.0': 11, '25.0': 11, '67.0': 11, '184.0': 10, '29.0': 10, '33.0': 10, '79.0': 9, '117.0': 9, '81.0': 8, '39.0': 8, '135.0': 8, '177.0': 7, '28.0': 7, '136.0': 7, '176.0': 7, '88.0': 7, '124.0': 6, '75.0': 6, '83.0': 6, '32.0': 6, '168.0': 6, '74.0': 5, '59.0': 5, '16.0': 5, '19.0': 5, '23.0': 5, '163.0': 4, '121.0': 4, '133.0': 4, '37.0': 4, '138.0': 4, '156.0': 4, '36.0': 4, '13.0': 3, '45.0': 3, '44.0': 3, '137.0': 3, '80.0': 3, '42.0': 2, '164.0': 2, '35.0': 2, '51.0': 2, '47.0': 2, '22.0': 1, '55.0': 1, '52.0': 1, '34.0': 1, '53.0': 1, '43.0': 1, '57.0': 1, '41.0': 1, '54.0': 1, '21.0': 1}\n"
     ]
    }
   ],
   "source": [
    "#3.How many photos without place assigned?\n",
    "#4.Maximal photos in one place\n",
    "#5.How many photos assigned to each place?\n",
    "import numpy as np\n",
    "fvaFile.replace(r'^\\s*$', np.nan, regex=True)\n",
    "len(fvaFile[fvaFile[\"PlaceId\"]==None])\n",
    "#pd.options.display.max_rows = 100\n",
    "fvaFile[\"PlaceId\"].value_counts(dropna=False)\n",
    "#fvaFile.groupby([\"PlaceId\"]).groups\n",
    "vc = fvaFile[\"PlaceId\"].value_counts(dropna=False)\n",
    "vc.index = vc.index.astype(str)\n",
    "print (vc.to_dict())"
   ]
  },
  {
   "cell_type": "code",
   "execution_count": 14,
   "metadata": {},
   "outputs": [
    {
     "data": {
      "text/plain": [
       "[<matplotlib.lines.Line2D at 0xb864dc0>]"
      ]
     },
     "execution_count": 14,
     "metadata": {},
     "output_type": "execute_result"
    },
    {
     "data": {
      "image/png": "[encoded data removed]",
      "text/plain": [
       "<Figure size 432x288 with 1 Axes>"
      ]
     },
     "metadata": {
      "needs_background": "light"
     },
     "output_type": "display_data"
    }
   ],
   "source": [
    "import matplotlib.pyplot as plt\n",
    "plt.plot(fvaFile[\"PlaceId\"].value_counts())"
   ]
  },
  {
   "cell_type": "code",
   "execution_count": 15,
   "metadata": {},
   "outputs": [
    {
     "data": {
      "text/plain": [
       "NaN               42700\n",
       "1                    41\n",
       "4                    39\n",
       "2                    15\n",
       "5                     9\n",
       "                  ...  \n",
       "22,8,2,1,6,4,5        1\n",
       "32,34                 1\n",
       "58                    1\n",
       "6,21,18,5,2           1\n",
       "59                    1\n",
       "Name: People, Length: 70, dtype: int64"
      ]
     },
     "execution_count": 15,
     "metadata": {},
     "output_type": "execute_result"
    }
   ],
   "source": [
    "#6.How many people assigned totally?\n",
    "#7.How many photos without people assigned?\n",
    "fvaFile[\"People\"].value_counts(dropna=False)"
   ]
  },
  {
   "cell_type": "code",
   "execution_count": null,
   "metadata": {},
   "outputs": [],
   "source": [
    "#8.How many photos assigned to each device?\n",
    "#9.How many devices assigned totally?\n",
    "#10.How many photos without devices assigned totally?"
   ]
  },
  {
   "cell_type": "code",
   "execution_count": 16,
   "metadata": {},
   "outputs": [
    {
     "data": {
      "text/plain": [
       "[<matplotlib.lines.Line2D at 0x4cefa48>]"
      ]
     },
     "execution_count": 16,
     "metadata": {},
     "output_type": "execute_result"
    },
    {
     "data": {
      "image/png": "[encoded data removed]",
      "text/plain": [
       "<Figure size 432x288 with 1 Axes>"
      ]
     },
     "metadata": {
      "needs_background": "light"
     },
     "output_type": "display_data"
    }
   ],
   "source": [
    "fvaFile[\"DevId\"].value_counts(dropna=False)\n",
    "plt.plot(fvaFile[\"DevId\"].value_counts())"
   ]
  },
  {
   "cell_type": "code",
   "execution_count": null,
   "metadata": {},
   "outputs": [],
   "source": [
    "#11.How many photos have description/comments\n"
   ]
  },
  {
   "cell_type": "code",
   "execution_count": 93,
   "metadata": {},
   "outputs": [],
   "source": [
    "#fvaFile.corr()"
   ]
  },
  {
   "cell_type": "code",
   "execution_count": 90,
   "metadata": {},
   "outputs": [],
   "source": [
    "#fvaFile.groupby([\"PlaceId\"]).groups"
   ]
  },
  {
   "cell_type": "code",
   "execution_count": 91,
   "metadata": {},
   "outputs": [],
   "source": [
    "#fvaFile.groupby([\"DevId\"]).groups"
   ]
  },
  {
   "cell_type": "code",
   "execution_count": 92,
   "metadata": {},
   "outputs": [],
   "source": [
    "#fvaFile.groupby([\"PlaceId\"]).first()"
   ]
  }
 ],
 "metadata": {
  "kernelspec": {
   "display_name": "Python 3",
   "language": "python",
   "name": "python3"
  },
  "language_info": {
   "codemirror_mode": {
    "name": "ipython",
    "version": 3
   },
   "file_extension": ".py",
   "mimetype": "text/x-python",
   "name": "python",
   "nbconvert_exporter": "python",
   "pygments_lexer": "ipython3",
   "version": "3.8.3"
  }
 },
 "nbformat": 4,
 "nbformat_minor": 4
}
